{
  "nbformat": 4,
  "nbformat_minor": 0,
  "metadata": {
    "colab": {
      "provenance": [],
      "authorship_tag": "ABX9TyOEnJVSVhc6BFDdRdMJfcth",
      "include_colab_link": true
    },
    "kernelspec": {
      "name": "python3",
      "display_name": "Python 3"
    },
    "language_info": {
      "name": "python"
    }
  },
  "cells": [
    {
      "cell_type": "markdown",
      "metadata": {
        "id": "view-in-github",
        "colab_type": "text"
      },
      "source": [
        "<a href=\"https://colab.research.google.com/github/ZachSH12/ZachSH12/blob/main/Shaft1.ipynb\" target=\"_parent\"><img src=\"https://colab.research.google.com/assets/colab-badge.svg\" alt=\"Open In Colab\"/></a>"
      ]
    },
    {
      "cell_type": "code",
      "execution_count": 2,
      "metadata": {
        "colab": {
          "base_uri": "https://localhost:8080/"
        },
        "id": "LcG-kq06qYzp",
        "outputId": "6eafd925-4ecd-457e-fb15-88c6d2d80041"
      },
      "outputs": [
        {
          "output_type": "stream",
          "name": "stdout",
          "text": [
            "Enter the radius: 2.750\n",
            "The circumference of a circle with a radius of 2.750 is 17.27876\n",
            "The area of a circle with a radius of 2.750 is 23.75829\n",
            "The volume of a sphere with a radius of 2.750 is 87.11375\n"
          ]
        }
      ],
      "source": [
        "import math\n",
        "\n",
        "radius = float(input(\"Enter the radius: \"))\n",
        "\n",
        "circumference = 2 * math.pi * radius\n",
        "area = math.pi * radius**2\n",
        "volume = (4/3) * math.pi * radius**3\n",
        "\n",
        "print(f\"The circumference of a circle with a radius of {radius:.3f} is {circumference:.5f}\")\n",
        "print(f\"The area of a circle with a radius of {radius:.3f} is {area:.5f}\")\n",
        "print(f\"The volume of a sphere with a radius of {radius:.3f} is {volume:.5f}\")"
      ]
    }
  ]
}