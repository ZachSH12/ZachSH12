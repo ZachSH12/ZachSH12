{
  "nbformat": 4,
  "nbformat_minor": 0,
  "metadata": {
    "colab": {
      "provenance": [],
      "authorship_tag": "ABX9TyO/eLSND7kO51cFCSVvct5m",
      "include_colab_link": true
    },
    "kernelspec": {
      "name": "python3",
      "display_name": "Python 3"
    },
    "language_info": {
      "name": "python"
    }
  },
  "cells": [
    {
      "cell_type": "markdown",
      "metadata": {
        "id": "view-in-github",
        "colab_type": "text"
      },
      "source": [
        "<a href=\"https://colab.research.google.com/github/ZachSH12/ZachSH12/blob/main/Copy_of_Shaft%2C_Zachary2_.ipynb\" target=\"_parent\"><img src=\"https://colab.research.google.com/assets/colab-badge.svg\" alt=\"Open In Colab\"/></a>"
      ]
    },
    {
      "cell_type": "code",
      "source": [
        "def check_divisibility():\n",
        "    while True:\n",
        "        try:\n",
        "            num1 = int(input(\"Enter the first positive integer: \"))\n",
        "            num2 = int(input(\"Enter the second positive integer: \"))\n",
        "\n",
        "            if num1 > 0 and num2 > 0:\n",
        "                if num1 % num2 == 0 or num2 % num1 == 0:\n",
        "                    return True\n",
        "                else:\n",
        "                    return False\n",
        "            else:\n",
        "                print(\"Please enter positive integers!\")\n",
        "        except ValueError:\n",
        "            print(\"Invalid input. Please enter positive integers!\")\n",
        "\n",
        "# Calling function\n",
        "while True:\n",
        "    result = check_divisibility()\n",
        "    print(\"Result:\", result)\n",
        "    choice = input(\"Do you want to continue (Y/N)? \")\n",
        "    if choice.lower() != \"y\":\n",
        "        break\n"
      ],
      "metadata": {
        "colab": {
          "base_uri": "https://localhost:8080/"
        },
        "id": "kmDpJXAJPiPy",
        "outputId": "31de0659-0651-4a61-dbd2-7362ddc1f098"
      },
      "execution_count": null,
      "outputs": [
        {
          "name": "stdout",
          "output_type": "stream",
          "text": [
            "Enter the first positive integer: 72\n",
            "Enter the second positive integer: 2\n",
            "Result: True\n",
            "Do you want to continue (Y/N)? n\n"
          ]
        }
      ]
    }
  ]
}